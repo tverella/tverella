{
 "cells": [
  {
   "cell_type": "code",
   "execution_count": 1,
   "id": "216202fc",
   "metadata": {
    "slideshow": {
     "slide_type": "skip"
    }
   },
   "outputs": [],
   "source": [
    "%matplotlib inline"
   ]
  },
  {
   "cell_type": "markdown",
   "id": "4868d2eb",
   "metadata": {
    "slideshow": {
     "slide_type": "-"
    }
   },
   "source": [
    "# Sparse Estimation:\n",
    "\n",
    "## Data Sharing and Additive Smoothing"
   ]
  },
  {
   "cell_type": "markdown",
   "id": "43c945e2",
   "metadata": {
    "slideshow": {
     "slide_type": "slide"
    }
   },
   "source": [
    "## Motivating Example: Predicting Clicks and Actions\n",
    "\n",
    "In **Performance Advertising**, we are interested in the following likelihoods:\n",
    "- $p \\in (0,1)$: that an _impression_ will result in a _click_\n",
    "- $q \\in (0,1)$: that an _impression_ or _click_ will result in an _install_ or _opt-in_ (in general an _action_)\n",
    "\n",
    "For which maximum likelihood estimates are essentially:\n",
    "$$\n",
    "\\hat{p} = \\frac{clicks}{impressions}, or \\quad \\hat{q} = \\frac{actions}{clicks}.\n",
    "$$"
   ]
  },
  {
   "cell_type": "markdown",
   "id": "a2fc04b1",
   "metadata": {
    "slideshow": {
     "slide_type": "fragment"
    }
   },
   "source": [
    "#### who: `unique_id`, what: `advertiser`, when: `day_of_week`, where: `station_id, zipcode`"
   ]
  },
  {
   "cell_type": "markdown",
   "id": "94854b27",
   "metadata": {
    "slideshow": {
     "slide_type": "slide"
    }
   },
   "source": [
    "## Why is this a difficult problem?\n",
    "\n",
    "- **statistical heterogeneity:** some stations have a lot of devices listening, some have only a few\n",
    "- **size of the problem space:** we tracked 168M+ devices new devices since 2021-01-01 alone\n",
    "- **sparsity:** click through rates (CTR) are at best on the order to $10^{-1}$, with similar magnitudes for errors"
   ]
  },
  {
   "cell_type": "markdown",
   "id": "e0bf8f47",
   "metadata": {
    "slideshow": {
     "slide_type": "slide"
    }
   },
   "source": [
    "## Additive Smoothing\n",
    "\n",
    "### Paid Search User Aquisition: Conversion rates for _opt-in_\n",
    "\n",
    "- Assuming the _actions_ are the success in **Binomial(clicks, $\\theta$)** trials\n",
    "- Laplace $\\epsilon$-smoothing: $$\\hat{\\theta} = \\frac{actions + \\epsilon}{clicks + 2\\epsilon}, $$ instead of the **MLE** estimate, $\\displaystyle \\frac{actions}{clicks}$\n",
    "- with $\\epsilon \\in \\mathbb{R}^{+}$\n",
    "- lacking specificity"
   ]
  },
  {
   "cell_type": "markdown",
   "id": "e77b3cd4",
   "metadata": {
    "slideshow": {
     "slide_type": "slide"
    }
   },
   "source": [
    "## Data Sharing\n",
    "\n",
    "### Paid Search User Aquisition: Conversion rates for _opt-in_\n",
    "\n",
    "- Estimating of the conversion rate of a keyword $k$: $\\displaystyle \\hat{q}_k = \\frac{actions_k}{clicks_k}$ \n",
    "- Using the conversion rate estimate of the campaign $c$ that the keyword $k$ is a part of: $\\displaystyle \\hat{q}_{k|c} = \\frac{actions_c + actions_k}{clicks_c + clicks_k}$ \n",
    "- The errors of using the campaign $\\hat{q}_c$ estimate for the keyword $k$: $$Errors_{(k|c)} = (actions_k - \\hat{q}_{k|c} \\cdot clicks_k)$$"
   ]
  },
  {
   "cell_type": "markdown",
   "id": "9fe9416d",
   "metadata": {
    "slideshow": {
     "slide_type": "slide"
    }
   },
   "source": [
    "## Beta-Binomial Estimation\n",
    "\n",
    "### Paid Search User Aquisition: Conversion rates for _opt-in_\n",
    "\n",
    "- Use campaign $c$ level data to fit beta distribution with parameters: $(\\alpha_c, \\beta_c)$\n",
    "- Use those beta priors to estimate the keyword $k$ level conversion rate: $$ \\hat{q}_{k|\\alpha_c, \\beta_c} = \\frac{\\alpha_c + actions_k}{\\alpha_c + \\beta_c + clicks_k}.$$\n"
   ]
  },
  {
   "cell_type": "markdown",
   "id": "7b93bb13",
   "metadata": {
    "slideshow": {
     "slide_type": "fragment"
    }
   },
   "source": [
    "- Binomial distribution are a reasonable model for the $p$ and $q$ rates.\n",
    "- Beta and Binomial distributions are conjugate priors"
   ]
  },
  {
   "cell_type": "markdown",
   "id": "e0006e91",
   "metadata": {
    "slideshow": {
     "slide_type": "fragment"
    }
   },
   "source": [
    "- We have done this for spend, in that their `log` seems to be Exponentially distributed\n",
    "- Using the fact that Gamma and Exponential distributions are conjugate priors"
   ]
  },
  {
   "cell_type": "markdown",
   "id": "4199f502",
   "metadata": {
    "slideshow": {
     "slide_type": "fragment"
    }
   },
   "source": [
    "- Campaign is just one level of aggregation!"
   ]
  }
 ],
 "metadata": {
  "celltoolbar": "Slideshow",
  "kernelspec": {
   "display_name": "Python 3 (ipykernel)",
   "language": "python",
   "name": "python3"
  },
  "language_info": {
   "codemirror_mode": {
    "name": "ipython",
    "version": 3
   },
   "file_extension": ".py",
   "mimetype": "text/x-python",
   "name": "python",
   "nbconvert_exporter": "python",
   "pygments_lexer": "ipython3",
   "version": "3.9.5"
  }
 },
 "nbformat": 4,
 "nbformat_minor": 5
}
